{
  "cells": [
    {
      "cell_type": "markdown",
      "metadata": {
        "id": "NU0xCHIKJRSG"
      },
      "source": [
        "## Artificial Intelligence and Machine Learning for SupTech  \n",
        "Tutorial 4: Cross-validation applied to LASSO variable selection \n",
        "\n",
        "*\tLooking closer at cross-validation (CV) and holdouts\n",
        "*\tK-fold, Leave-one-out, stratified CV\n",
        "*\tSplitting your data into training and testing samples\n",
        "*\tHow to use CV to tune a LASSO model\n",
        "\n",
        "<br/>\n",
        "\n",
        "14 March 2023  \n",
        "\n",
        "**Instructors**  \n",
        "Prof. Iman van Lelyveld (iman.van.lelyveld@vu.nl)<br/>\n",
        "Dr. Michiel Nijhuis (m.nijhuis@dnb.nl)  "
      ]
    },
    {
      "cell_type": "code",
      "execution_count": null,
      "metadata": {
        "id": "cG7h_DZoN9Ld"
      },
      "outputs": [],
      "source": [
        "!gdown 1YO09naIv_Lf4Nne-_zH9oDM0SXfk2VSh"
      ]
    },
    {
      "cell_type": "code",
      "execution_count": null,
      "metadata": {
        "id": "LCMq0j6PR6Nz"
      },
      "outputs": [],
      "source": [
        "import pandas as pd\n",
        "import numpy as np\n",
        "import matplotlib.pyplot as plt"
      ]
    },
    {
      "cell_type": "markdown",
      "metadata": {
        "id": "vGOJH2SUQ20y"
      },
      "source": [
        "For the next few tutorials we will be looking at historical commodity price data. We are going to predict the prices of certain commodities by using a LASSO model. First let us explore the data a bit"
      ]
    },
    {
      "cell_type": "code",
      "execution_count": null,
      "metadata": {
        "id": "Da0eSV2s11HO"
      },
      "outputs": [],
      "source": [
        "df = pd.read_csv('/content/commodity-prices.csv', sep=';')"
      ]
    },
    {
      "cell_type": "code",
      "execution_count": null,
      "metadata": {
        "id": "txu26LIE18sz"
      },
      "outputs": [],
      "source": [
        "df.head()"
      ]
    },
    {
      "cell_type": "markdown",
      "metadata": {
        "id": "fl5BkIdA6H4E"
      },
      "source": [
        "Try to get a bit familiar with the dataset"
      ]
    },
    {
      "cell_type": "code",
      "execution_count": null,
      "metadata": {
        "id": "ew_meAtZ6IXB"
      },
      "outputs": [],
      "source": [
        "df.describe()"
      ]
    },
    {
      "cell_type": "markdown",
      "metadata": {
        "id": "9eON-_046YmE"
      },
      "source": [
        "We will alter the dataset to have the data in the wide format (column based) and not in the long format (row based)"
      ]
    },
    {
      "cell_type": "code",
      "execution_count": null,
      "metadata": {
        "id": "b5Dg2uNU6YOY"
      },
      "outputs": [],
      "source": [
        "df = df.pivot_table(columns='Commodity', values='Price index', index='Date', aggfunc='mean')"
      ]
    },
    {
      "cell_type": "code",
      "execution_count": null,
      "metadata": {
        "id": "MaRuppxZ7MAk"
      },
      "outputs": [],
      "source": [
        "df.head()"
      ]
    },
    {
      "cell_type": "markdown",
      "metadata": {
        "id": "upTYueF_C_Eh"
      },
      "source": [
        "To keep it simple we will first drop the NaN columns"
      ]
    },
    {
      "cell_type": "code",
      "execution_count": null,
      "metadata": {
        "id": "4c68UBxUDb9Q"
      },
      "outputs": [],
      "source": [
        "df = df.dropna(axis=1)"
      ]
    },
    {
      "cell_type": "markdown",
      "metadata": {
        "id": "1_lbGDIoYMRo"
      },
      "source": [
        "The data seems to have different scales, so let's scale all the data to the [0,1] range"
      ]
    },
    {
      "cell_type": "code",
      "execution_count": null,
      "metadata": {
        "id": "kxnOAOi-YNAO"
      },
      "outputs": [],
      "source": [
        "df = df/df.max()"
      ]
    },
    {
      "cell_type": "markdown",
      "metadata": {
        "id": "k-4B_R6c3D6a"
      },
      "source": [
        "For the first model we are going to look at Aluminum prices"
      ]
    },
    {
      "cell_type": "code",
      "execution_count": null,
      "metadata": {
        "id": "YjI4xUtt-NtJ"
      },
      "outputs": [],
      "source": [
        "df['Aluminum'].plot()"
      ]
    },
    {
      "cell_type": "markdown",
      "metadata": {
        "id": "S_lkNlUzBhj7"
      },
      "source": [
        "We will try to build a model to predict the Aluminum price based on the prices in the previous month"
      ]
    },
    {
      "cell_type": "code",
      "execution_count": null,
      "metadata": {
        "id": "B9DNY5IgBhQZ"
      },
      "outputs": [],
      "source": [
        "y = df.loc['1980-04':,'Aluminum'] # select the Aluminum price 1 quarter ahead\n",
        "x = df.loc[:'2015-11', :] # select the predictors from all of the data"
      ]
    },
    {
      "cell_type": "code",
      "execution_count": null,
      "metadata": {
        "id": "yl1zi201CY5b"
      },
      "outputs": [],
      "source": [
        "from sklearn.linear_model import Lasso"
      ]
    },
    {
      "cell_type": "code",
      "execution_count": null,
      "metadata": {
        "id": "iF6UJF0XCrjo"
      },
      "outputs": [],
      "source": [
        "lasso = Lasso(alpha=0.00000001)"
      ]
    },
    {
      "cell_type": "code",
      "execution_count": null,
      "metadata": {
        "id": "JFCuKpgUCyjK"
      },
      "outputs": [],
      "source": [
        "lasso = lasso.fit(x, y)"
      ]
    },
    {
      "cell_type": "markdown",
      "metadata": {
        "id": "LjBI8QHxOUBw"
      },
      "source": [
        "Lets have a look at out prediction"
      ]
    },
    {
      "cell_type": "code",
      "execution_count": null,
      "metadata": {
        "id": "JLuCsu68OXFQ"
      },
      "outputs": [],
      "source": [
        "plot_data = pd.DataFrame()\n",
        "plot_data['true'] = y\n",
        "plot_data['predicted'] = lasso.predict(x)\n",
        "plot_data.plot()"
      ]
    },
    {
      "cell_type": "markdown",
      "metadata": {
        "id": "fISmpUIZO3Ss"
      },
      "source": [
        "That does not look like a very good prediction, we even perfectly predicted the drop because of the 2008 financial crisis"
      ]
    },
    {
      "cell_type": "markdown",
      "metadata": {
        "id": "xQsWKEyaPTA8"
      },
      "source": [
        "Could this just be because the training data also has data on the drop during the financial crisis? Let's make a simple test train split and find out!"
      ]
    },
    {
      "cell_type": "code",
      "execution_count": null,
      "metadata": {
        "id": "qk2UcIKVP8s7"
      },
      "outputs": [],
      "source": [
        "from sklearn.model_selection import train_test_split"
      ]
    },
    {
      "cell_type": "code",
      "execution_count": null,
      "metadata": {
        "id": "j_28lhbqQ4C3"
      },
      "outputs": [],
      "source": [
        "x_train, x_test, y_train, y_test = train_test_split(x, y, test_size=0.33, random_state=42)"
      ]
    },
    {
      "cell_type": "code",
      "execution_count": null,
      "metadata": {
        "id": "5BHtGVLnRGBJ"
      },
      "outputs": [],
      "source": [
        "lasso = lasso.fit(x_train, y_train)"
      ]
    },
    {
      "cell_type": "code",
      "execution_count": null,
      "metadata": {
        "id": "bbb876iORHwm"
      },
      "outputs": [],
      "source": [
        "plot_data = pd.DataFrame()\n",
        "plot_data['true'] = y_test\n",
        "plot_data['predicted'] = lasso.predict(x_test)\n",
        "plot_data.sort_index().plot()"
      ]
    },
    {
      "cell_type": "markdown",
      "metadata": {
        "id": "j5domuMR9Emc"
      },
      "source": [
        "That looks still like a very good prediction. Would this be the correct way to make your test-train split in this case?"
      ]
    },
    {
      "cell_type": "markdown",
      "metadata": {
        "id": "fj3G4wAp9ZMm"
      },
      "source": [
        "</br>\n",
        "</br>\n",
        "</br>\n",
        "</br>\n",
        "</br>"
      ]
    },
    {
      "cell_type": "markdown",
      "metadata": {
        "id": "3T-UX-so9hcH"
      },
      "source": [
        "It would be better to select a continuous period for the training laying further back in the past then the testing data "
      ]
    },
    {
      "cell_type": "code",
      "execution_count": null,
      "metadata": {
        "id": "vM0CNLfaV-DK"
      },
      "outputs": [],
      "source": [
        "train_y = df.loc['1980-04':'2006-01','Aluminum'] # select the Aluminum from the second period onwards\n",
        "train_x = df.loc[:'2005-10', :] # select the predictors from all of the data\n",
        "test_y = df.loc['2006-01':,'Aluminum'] # select the Aluminum from the second period onwards\n",
        "test_x = df.loc['2005-10':'2015-11', :] # select the predictors from all of the data"
      ]
    },
    {
      "cell_type": "code",
      "execution_count": null,
      "metadata": {
        "id": "zRA6w4CwWAWy"
      },
      "outputs": [],
      "source": [
        "lasso = lasso.fit(train_x, train_y)"
      ]
    },
    {
      "cell_type": "code",
      "execution_count": null,
      "metadata": {
        "id": "Ypw8ieXZWB48"
      },
      "outputs": [],
      "source": [
        "plot_data = pd.DataFrame()\n",
        "plot_data['true'] = test_y\n",
        "plot_data['predicted'] = lasso.predict(test_x)\n",
        "plot_data.plot()"
      ]
    },
    {
      "cell_type": "markdown",
      "metadata": {
        "id": "cKnPdd5l2tz1"
      },
      "source": [
        "Let's have a look at the coefficients the model uses"
      ]
    },
    {
      "cell_type": "code",
      "execution_count": null,
      "metadata": {
        "id": "_NdXgopK2pp8"
      },
      "outputs": [],
      "source": [
        "non_zero_coefficents = np.abs(lasso.coef_,)>0\n",
        "pd.Series(lasso.coef_[non_zero_coefficents], index=x.columns[non_zero_coefficents])"
      ]
    },
    {
      "cell_type": "markdown",
      "metadata": {
        "id": "tlyD61Oz39PK"
      },
      "source": [
        "It looks like we take in all the variables that we have. Can you see why that would be wrong to do, for instance look at the 4 Crude Oil indicators. We can calculate the correlation between the crude oil columns to see if they bring something different to the table:"
      ]
    },
    {
      "cell_type": "code",
      "execution_count": null,
      "metadata": {
        "id": "_dLHb_i65oWB"
      },
      "outputs": [],
      "source": [
        "df.filter(like='Crude Oil').corr()"
      ]
    },
    {
      "cell_type": "markdown",
      "metadata": {
        "id": "B-V9aVC36nQc"
      },
      "source": [
        "Can you find other columns which might not be good predictors?"
      ]
    },
    {
      "cell_type": "markdown",
      "source": [
        "Tea for instance"
      ],
      "metadata": {
        "id": "J66UmEft2mTx"
      }
    },
    {
      "cell_type": "markdown",
      "metadata": {
        "id": "WS6_Mmih5rfx"
      },
      "source": [
        "We can adjust the regularization in the Lasso model to reduce the amount of variables we are using in our model by adjusting the alpha values. Can you find the optimal alpha value? "
      ]
    },
    {
      "cell_type": "code",
      "execution_count": null,
      "metadata": {
        "id": "n_d1k1N5Yi1u"
      },
      "outputs": [],
      "source": [
        "lasso = Lasso(alpha=0.001)\n",
        "lasso = lasso.fit(train_x, train_y)\n",
        "\n",
        "plot_data = pd.DataFrame()\n",
        "plot_data['true'] = test_y\n",
        "plot_data['predicted'] = lasso.predict(test_x)\n",
        "plot_data.plot()"
      ]
    },
    {
      "cell_type": "markdown",
      "metadata": {
        "id": "1Aq1sh8l60S_"
      },
      "source": [
        "By using KFolds and a lasso model with cross validation we can find the optimal value of alpha based on the folds we use. "
      ]
    },
    {
      "cell_type": "code",
      "execution_count": null,
      "metadata": {
        "id": "EQ5HJiRpSL1-"
      },
      "outputs": [],
      "source": [
        "from sklearn.model_selection import KFold\n",
        "from sklearn.linear_model import LassoCV"
      ]
    },
    {
      "cell_type": "code",
      "execution_count": null,
      "metadata": {
        "id": "Cdk2-W4jiHSH"
      },
      "outputs": [],
      "source": [
        "lasso_cv_kf = LassoCV(cv=KFold())"
      ]
    },
    {
      "cell_type": "code",
      "source": [
        "lasso_cv_kf = lasso_cv_kf.fit(train_x, train_y)"
      ],
      "metadata": {
        "id": "3Vz4C9Xu22S6"
      },
      "execution_count": null,
      "outputs": []
    },
    {
      "cell_type": "code",
      "source": [
        "lasso_cv_kf.alpha_"
      ],
      "metadata": {
        "id": "Inf-my5727x4"
      },
      "execution_count": null,
      "outputs": []
    },
    {
      "cell_type": "markdown",
      "metadata": {
        "id": "Z5gE3lQi7-yB"
      },
      "source": [
        "The same thing can be done by using leave one out cross validation"
      ]
    },
    {
      "cell_type": "code",
      "execution_count": null,
      "metadata": {
        "id": "WdzvYFyT7-CW"
      },
      "outputs": [],
      "source": [
        "from sklearn.model_selection import LeaveOneOut"
      ]
    },
    {
      "cell_type": "code",
      "execution_count": null,
      "metadata": {
        "id": "uUeJcYO48jav"
      },
      "outputs": [],
      "source": [
        "lasso_cv = LassoCV(cv=LeaveOneOut())\n",
        "lasso_cv = lasso_cv.fit(train_x, train_y)\n",
        "lasso_cv.alpha_"
      ]
    },
    {
      "cell_type": "markdown",
      "metadata": {
        "id": "Ahc6TlQM8zXd"
      },
      "source": [
        "Can you show the differences between the two cross validation methods?\n",
        "\n"
      ]
    },
    {
      "cell_type": "code",
      "execution_count": null,
      "metadata": {
        "id": "sYSAF6f-870e"
      },
      "outputs": [],
      "source": [
        "plot_data = pd.DataFrame()\n",
        "plot_data['true'] = test_y\n",
        "plot_data['lasso'] = lasso.predict(test_x)\n",
        "plot_data['kFolds'] = lasso_cv_kf.predict(test_x)\n",
        "plot_data['LeaveOneOut'] = lasso_cv.predict(test_x)\n",
        "plot_data.plot()"
      ]
    },
    {
      "cell_type": "code",
      "source": [],
      "metadata": {
        "id": "wqXUFBB943Hj"
      },
      "execution_count": null,
      "outputs": []
    }
  ],
  "metadata": {
    "colab": {
      "provenance": []
    },
    "kernelspec": {
      "display_name": "Python 3.9.0 64-bit",
      "language": "python",
      "name": "python3"
    },
    "language_info": {
      "name": "python",
      "version": "3.9.0"
    },
    "vscode": {
      "interpreter": {
        "hash": "11938c6bc6919ae2720b4d5011047913343b08a43b18698fd82dedb0d4417594"
      }
    }
  },
  "nbformat": 4,
  "nbformat_minor": 0
}