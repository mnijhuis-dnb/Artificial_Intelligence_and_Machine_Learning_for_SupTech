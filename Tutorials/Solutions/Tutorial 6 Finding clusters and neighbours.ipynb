{
  "cells": [
    {
      "cell_type": "markdown",
      "metadata": {
        "colab_type": "text",
        "id": "view-in-github"
      },
      "source": [
        "<a href=\"https://colab.research.google.com/github/mnijhuis-dnb/Artificial_Intelligence_and_Machine_Learning_for_SupTech/blob/main/Tutorials/Tutorial%206%20Finding%20clusters%20and%20neighbours.ipynb\" target=\"_parent\"><img src=\"https://colab.research.google.com/assets/colab-badge.svg\" alt=\"Open In Colab\"/></a>"
      ]
    },
    {
      "cell_type": "markdown",
      "metadata": {
        "id": "NU0xCHIKJRSG"
      },
      "source": [
        "## Artificial Intelligence and Machine Learning for SupTech  \n",
        "Tutorial 6: Finding clusters and neighbors\n",
        "\n",
        "*\tImplementing K-means and DBSCAN\n",
        "*\tHierarchical clustering: Bottom-up or Top-down?\n",
        "*\tVisual inspection of results\n",
        "\n",
        "<br/>\n",
        "\n",
        "14 March 2023  \n",
        "\n",
        "**Instructors**  \n",
        "Prof. Iman van Lelyveld (iman.van.lelyveld@vu.nl)<br/>\n",
        "Dr. Michiel Nijhuis (m.nijhuis@dnb.nl)  "
      ]
    },
    {
      "cell_type": "code",
      "execution_count": null,
      "metadata": {
        "id": "cG7h_DZoN9Ld"
      },
      "outputs": [],
      "source": [
        "!gdown 1PCu4jNahysRpZ72z31KHpVkyAOp6nrKj"
      ]
    },
    {
      "cell_type": "markdown",
      "metadata": {
        "id": "vGOJH2SUQ20y"
      },
      "source": [
        "In this tutorial we will try to group companies based on a number of factors and see if the groups we made have a different revenue a couple of years later."
      ]
    },
    {
      "cell_type": "code",
      "execution_count": null,
      "metadata": {
        "id": "LCMq0j6PR6Nz"
      },
      "outputs": [],
      "source": [
        "import pandas as pd\n",
        "import numpy as np\n",
        "import matplotlib.pyplot as plt"
      ]
    },
    {
      "cell_type": "code",
      "execution_count": null,
      "metadata": {
        "id": "mMbHUa4GGgv0"
      },
      "outputs": [],
      "source": [
        "df = pd.read_csv('/content/company_data.csv', index_col=0)"
      ]
    },
    {
      "cell_type": "markdown",
      "metadata": {
        "id": "VFqj-25OA3ud"
      },
      "source": [
        "We are going to cluster the data based on the 2016 data and see the effects on the 2018 data"
      ]
    },
    {
      "cell_type": "code",
      "execution_count": null,
      "metadata": {
        "id": "VvPJ_egTZpsN"
      },
      "outputs": [],
      "source": [
        "df_2016 = df.loc[df['year'] == 2016, :]\n",
        "df_2018 = df.loc[df['year'] == 2018, :]"
      ]
    },
    {
      "cell_type": "markdown",
      "metadata": {
        "id": "31MV3oaJFQyW"
      },
      "source": [
        "Select a number of columns in the dataframe which could be predictors of the revenue two years down the line. As an example, high R&D investments could transfer into larger revenue a few years later, so that could be something to select "
      ]
    },
    {
      "cell_type": "code",
      "execution_count": null,
      "metadata": {
        "id": "MGgXq-lw247Q"
      },
      "outputs": [],
      "source": [
        "selected_columns = ['','','','']\n",
        "df_2016_limited = df_2016[selected_columns]"
      ]
    },
    {
      "cell_type": "markdown",
      "metadata": {
        "id": "d-2aNQh2HkyR"
      },
      "source": [
        "We are going to cluster this data using the KMeans algorithm"
      ]
    },
    {
      "cell_type": "code",
      "execution_count": null,
      "metadata": {
        "id": "jN7qRigOdUiT"
      },
      "outputs": [],
      "source": [
        "from sklearn.cluster import KMeans"
      ]
    },
    {
      "cell_type": "code",
      "execution_count": null,
      "metadata": {
        "id": "bOdbvEf8LoYn"
      },
      "outputs": [],
      "source": [
        "n_clusters = 3\n",
        "\n",
        "kmeans = KMeans(\n",
        "    n_clusters=n_clusters, \n",
        "    random_state=0,\n",
        ").fit(df_2016_limited)"
      ]
    },
    {
      "cell_type": "markdown",
      "metadata": {
        "id": "grAEVj_vH0C_"
      },
      "source": [
        "Let's have a look at the results"
      ]
    },
    {
      "cell_type": "code",
      "execution_count": null,
      "metadata": {
        "id": "OKsgFYTaNcfm"
      },
      "outputs": [],
      "source": [
        "pd.Series(kmeans.labels_, index=df_2016_limited.index, name='clusters')"
      ]
    },
    {
      "cell_type": "markdown",
      "metadata": {
        "id": "TVKKA1JWIFd1"
      },
      "source": [
        "Now it is time to discover whether your clusters are actually separating the data well. Calculate the statistics of each of the clusters"
      ]
    },
    {
      "cell_type": "code",
      "execution_count": null,
      "metadata": {
        "id": "oCR5Yt0fIZ7d"
      },
      "outputs": [],
      "source": [
        "display(df_2016_limited[kmeans.labels_==0].describe())\n",
        "display(df_2016_limited[kmeans.labels_==1].describe())\n",
        "display(df_2016_limited[kmeans.labels_==2].describe())"
      ]
    },
    {
      "cell_type": "markdown",
      "metadata": {
        "id": "odQUpLaKIaYW"
      },
      "source": [
        "You can also visually show your clusters, we now do it in 2 dimensions. Pick two of the columns you selected and use the code to plot the results. How does the separation of the data look?"
      ]
    },
    {
      "cell_type": "code",
      "execution_count": null,
      "metadata": {
        "id": "s2cD2vwqMTAv"
      },
      "outputs": [],
      "source": [
        "col_a = selected_columns[0]\n",
        "col_b = selected_columns[1]\n",
        "\n",
        "color = iter(plt.cm.rainbow(np.linspace(0, 1, n_clusters)))\n",
        "for i in range(n_clusters):\n",
        "  plot_df = df_2016_limited[kmeans.labels_==i]\n",
        "  plt.plot(\n",
        "    plot_df.loc[:, col_a], plot_df.loc[:, col_b],\n",
        "    color=next(color),\n",
        "    marker='o', markersize=3, lw=0\n",
        "  )"
      ]
    },
    {
      "cell_type": "markdown",
      "metadata": {
        "id": "zOTCYxsax0qv"
      },
      "source": [
        "Another approach to clustering is agglomerative clustering"
      ]
    },
    {
      "cell_type": "code",
      "execution_count": null,
      "metadata": {
        "id": "PKjFCBvrdVU8"
      },
      "outputs": [],
      "source": [
        "from sklearn.cluster import AgglomerativeClustering"
      ]
    },
    {
      "cell_type": "code",
      "execution_count": null,
      "metadata": {
        "id": "dhO-dp_mbWXF"
      },
      "outputs": [],
      "source": [
        "agg = AgglomerativeClustering(\n",
        "    n_clusters=n_clusters\n",
        ").fit(df_2016_limited)"
      ]
    },
    {
      "cell_type": "markdown",
      "metadata": {
        "id": "PvkYweV7yCCb"
      },
      "source": [
        "Compare the results of the agglomerative clustering to the KMeans clustering"
      ]
    },
    {
      "cell_type": "code",
      "execution_count": null,
      "metadata": {},
      "outputs": [],
      "source": [
        "display(df_2016_limited[agg.labels_==0].describe())\n",
        "display(df_2016_limited[agg.labels_==1].describe())\n",
        "display(df_2016_limited[agg.labels_==2].describe())"
      ]
    },
    {
      "cell_type": "markdown",
      "metadata": {},
      "source": [
        "Use the confusion matrix to get an idea of how the clusters map onto each other "
      ]
    },
    {
      "cell_type": "code",
      "execution_count": null,
      "metadata": {
        "id": "OtdY2AWyyIGR"
      },
      "outputs": [],
      "source": [
        "from sklearn.metrics import confusion_matrix\n",
        "\n",
        "confusion_matrix(kmeans.labels_, agg.labels_)"
      ]
    },
    {
      "cell_type": "markdown",
      "metadata": {
        "id": "vDJrU-_IfPFF"
      },
      "source": [
        "We can also use the silhouette to quality of the clustering"
      ]
    },
    {
      "cell_type": "code",
      "execution_count": null,
      "metadata": {
        "id": "cTC1iRB5jCuo"
      },
      "outputs": [],
      "source": [
        "from sklearn.metrics import silhouette_samples, silhouette_score"
      ]
    },
    {
      "cell_type": "code",
      "execution_count": null,
      "metadata": {
        "id": "mMT3itUbkfmr"
      },
      "outputs": [],
      "source": [
        "def plot_silhoutes(model): \n",
        "  fig, axes = plt.subplots(1, n_clusters, sharey=True, figsize=[int(5*n_clusters),5])\n",
        "\n",
        "  silhouette_values = silhouette_samples(df_2016_limited, model.labels_)\n",
        "\n",
        "  colors = iter(plt.cm.rainbow(np.linspace(0, 1, n_clusters)))\n",
        "  for cluster in np.unique(model.labels_):\n",
        "    ax = axes[cluster]\n",
        "    color = next(colors)\n",
        "    sils = silhouette_values[model.labels_ == cluster]\n",
        "    sils = sorted(sils)\n",
        "    ax.bar(range(len(sils)), sils, color=color, width=2)\n",
        "\n",
        "    sils_avg = np.mean(sils)\n",
        "    ax.axhline(sils_avg, lw=3, ls='--', color=color)\n",
        "    ax.set_title(f'Cluster {cluster}\\n(avg. silhoutte: {sils_avg:.3f}')\n",
        "\n",
        "  fig.tight_layout()\n",
        "\n",
        "  plot_silhoutes(kmeans)"
      ]
    },
    {
      "cell_type": "markdown",
      "metadata": {
        "id": "9PSQzsH6mN5y"
      },
      "source": [
        "Can you make the same plot for the agglomerative clustering?"
      ]
    },
    {
      "cell_type": "code",
      "execution_count": null,
      "metadata": {
        "id": "7gTRbVSxmN5z"
      },
      "outputs": [],
      "source": [
        "plot_silhoutes(agg)"
      ]
    },
    {
      "cell_type": "markdown",
      "metadata": {
        "id": "2kKUQE2r-j4l"
      },
      "source": [
        "Now we can see if the clusters you have defined also have an effect on the revenue in 2018. Can you combine the data of 2016 to 2018 and see the differences in statistics of the revenue in 2018 between the clusters"
      ]
    },
    {
      "cell_type": "code",
      "execution_count": null,
      "metadata": {
        "id": "tsCrLfI9-5U2"
      },
      "outputs": [],
      "source": [
        "df_revenue = df_2016.merge(df_2018, how='left', left_index=True, right_index=True, suffixes=['_2016','_2018'])[['Revenue_2016', 'Revenue_2018']]\n",
        "df_revenue['Revenue_difference'] = df_revenue['Revenue_2018'] - df_revenue['Revenue_2016'] / (0.5*(df_revenue['Revenue_2018'] + df_revenue['Revenue_2016']))\n",
        "df_revenue['labels'] = kmeans.labels_\n",
        "df_revenue.groupby('labels')['Revenue_difference'].mean()"
      ]
    }
  ],
  "metadata": {
    "colab": {
      "include_colab_link": true,
      "provenance": []
    },
    "kernelspec": {
      "display_name": "Python 3.9.7 ('base')",
      "language": "python",
      "name": "python3"
    },
    "language_info": {
      "codemirror_mode": {
        "name": "ipython",
        "version": 3
      },
      "file_extension": ".py",
      "mimetype": "text/x-python",
      "name": "python",
      "nbconvert_exporter": "python",
      "pygments_lexer": "ipython3",
      "version": "3.9.7"
    },
    "vscode": {
      "interpreter": {
        "hash": "1487036e2b4c3efb4b3c8f354d2634a52c03b8f86cae8ff8f4b4aaa5461f93fb"
      }
    }
  },
  "nbformat": 4,
  "nbformat_minor": 0
}
